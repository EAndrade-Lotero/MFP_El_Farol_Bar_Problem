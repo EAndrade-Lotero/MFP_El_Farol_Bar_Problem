{
 "cells": [
  {
   "cell_type": "code",
   "execution_count": 1,
   "id": "d7a910fa",
   "metadata": {},
   "outputs": [],
   "source": [
    "import sys\n",
    "\n",
    "sys.path.append('../src')"
   ]
  },
  {
   "cell_type": "code",
   "execution_count": 2,
   "id": "19f7a47f",
   "metadata": {},
   "outputs": [],
   "source": [
    "from config import PATHS\n",
    "from Classes.bar import Bar\n",
    "from Classes.agentes import MFP\n",
    "from utils.interaction import Episode\n",
    "from tester.unit_tests import test_bar_is_full\n",
    "from utils.plot_utils import PlotStandardMeasures"
   ]
  },
  {
   "cell_type": "code",
   "execution_count": 3,
   "id": "004074b4",
   "metadata": {},
   "outputs": [],
   "source": [
    "fixed_parameters = {\n",
    "    'num_agents': 2,\n",
    "    'threshold': 0.5,\n",
    "}\n",
    "free_parameters = {\n",
    "    'belief_strength': 1\n",
    "}"
   ]
  },
  {
   "cell_type": "code",
   "execution_count": 4,
   "id": "cc2938fa",
   "metadata": {},
   "outputs": [],
   "source": [
    "# Crear el entorno\n",
    "bar = Bar(**fixed_parameters)\n",
    "# Crear los agentes\n",
    "agents = [MFP(free_parameters, fixed_parameters, n) for n in range(fixed_parameters['num_agents'])]\n",
    "# Crear el episodio\n",
    "episode = Episode(\n",
    "    model='MFP',\n",
    "    agents=agents,\n",
    "    environment=bar,\n",
    "    num_rounds=1000\n",
    ")"
   ]
  },
  {
   "cell_type": "code",
   "execution_count": 5,
   "id": "2f5bd78f",
   "metadata": {},
   "outputs": [],
   "source": [
    "episode.run()"
   ]
  },
  {
   "cell_type": "code",
   "execution_count": 6,
   "id": "6c00e484",
   "metadata": {},
   "outputs": [
    {
     "data": {
      "text/html": [
       "<div>\n",
       "<style scoped>\n",
       "    .dataframe tbody tr th:only-of-type {\n",
       "        vertical-align: middle;\n",
       "    }\n",
       "\n",
       "    .dataframe tbody tr th {\n",
       "        vertical-align: top;\n",
       "    }\n",
       "\n",
       "    .dataframe thead th {\n",
       "        text-align: right;\n",
       "    }\n",
       "</style>\n",
       "<table border=\"1\" class=\"dataframe\">\n",
       "  <thead>\n",
       "    <tr style=\"text-align: right;\">\n",
       "      <th></th>\n",
       "      <th>id_sim</th>\n",
       "      <th>round</th>\n",
       "      <th>attendance</th>\n",
       "      <th>id_player</th>\n",
       "      <th>decision</th>\n",
       "      <th>score</th>\n",
       "      <th>model</th>\n",
       "      <th>threshold</th>\n",
       "      <th>num_agents</th>\n",
       "    </tr>\n",
       "  </thead>\n",
       "  <tbody>\n",
       "    <tr>\n",
       "      <th>0</th>\n",
       "      <td>044cefe8-2ab5-11f0-b1ef-beb3bfa57af1</td>\n",
       "      <td>0</td>\n",
       "      <td>[1, 1]</td>\n",
       "      <td>0</td>\n",
       "      <td>1</td>\n",
       "      <td>-1</td>\n",
       "      <td>MFP</td>\n",
       "      <td>0.5</td>\n",
       "      <td>2</td>\n",
       "    </tr>\n",
       "    <tr>\n",
       "      <th>1</th>\n",
       "      <td>044cefe8-2ab5-11f0-b1ef-beb3bfa57af1</td>\n",
       "      <td>0</td>\n",
       "      <td>[1, 1]</td>\n",
       "      <td>1</td>\n",
       "      <td>1</td>\n",
       "      <td>-1</td>\n",
       "      <td>MFP</td>\n",
       "      <td>0.5</td>\n",
       "      <td>2</td>\n",
       "    </tr>\n",
       "  </tbody>\n",
       "</table>\n",
       "</div>"
      ],
      "text/plain": [
       "                                 id_sim  round attendance  id_player  \\\n",
       "0  044cefe8-2ab5-11f0-b1ef-beb3bfa57af1      0     [1, 1]          0   \n",
       "1  044cefe8-2ab5-11f0-b1ef-beb3bfa57af1      0     [1, 1]          1   \n",
       "\n",
       "   decision  score model  threshold  num_agents  \n",
       "0         1     -1   MFP        0.5           2  \n",
       "1         1     -1   MFP        0.5           2  "
      ]
     },
     "execution_count": 6,
     "metadata": {},
     "output_type": "execute_result"
    }
   ],
   "source": [
    "data_path = PATHS['sim_data']\n",
    "df = episode.to_pandas()\n",
    "df.to_csv(data_path / 'datos.csv', index=False)\n",
    "df.head(2)"
   ]
  },
  {
   "cell_type": "code",
   "execution_count": 7,
   "id": "bfb90170",
   "metadata": {},
   "outputs": [],
   "source": [
    "episode.renderize(data_path / 'bar.png')"
   ]
  },
  {
   "cell_type": "code",
   "execution_count": 8,
   "id": "7cb1c15a",
   "metadata": {},
   "outputs": [
    {
     "name": "stdout",
     "output_type": "stream",
     "text": [
      "\n",
      "------------------------------------------------------------\n",
      "Test bar is full\n",
      "------------------------------------------------------------\n",
      "Initial state: [1, 1]\n",
      "---------- Round 0 ----------\n",
      "prob_capacity=0.25 --- prob_crowded=0.75\n",
      "Expected utilities:\n",
      "no go:0 ---- go:-0.5\n",
      "Action preferences:\n",
      "no go:1 ---- go:0\n",
      "Action preferences in state (1, 1): [1, 0]\n",
      "prob_capacity=0.25 --- prob_crowded=0.75\n",
      "Expected utilities:\n",
      "no go:0 ---- go:-0.5\n",
      "Action preferences:\n",
      "no go:1 ---- go:0\n",
      "Action probabilities:\n",
      "no go:1 ---- go:0\n",
      "Chosen action: 0\n",
      "State arrived: [0, 1]\n",
      "Payoff action 0: 0\n",
      "I see the previous state: (1, 1)\n",
      "I recall the following frequencies of states:\n",
      "+--------+--------+--------+--------+\n",
      "| (0, 0) | (0, 1) | (1, 0) | (1, 1) |\n",
      "+--------+--------+--------+--------+\n",
      "|   0    |   0    |   0    |   1    |\n",
      "+--------+--------+--------+--------+\n",
      "I recall the following frequencies of bar with capacity:\n",
      "+--------+--------+--------+--------+\n",
      "| (0, 0) | (0, 1) | (1, 0) | (1, 1) |\n",
      "+--------+--------+--------+--------+\n",
      "|   0    |   0    |   0    |   1    |\n",
      "+--------+--------+--------+--------+\n",
      "---------- Round 1 ----------\n",
      "prob_capacity=0.25 --- prob_crowded=0.75\n",
      "Expected utilities:\n",
      "no go:0 ---- go:-0.5\n",
      "Action preferences:\n",
      "no go:1 ---- go:0\n",
      "Action preferences in state [0, 1]: [1, 0]\n",
      "prob_capacity=0.25 --- prob_crowded=0.75\n",
      "Expected utilities:\n",
      "no go:0 ---- go:-0.5\n",
      "Action preferences:\n",
      "no go:1 ---- go:0\n",
      "Action probabilities:\n",
      "no go:1 ---- go:0\n",
      "Chosen action: 0\n",
      "State arrived: [0, 1]\n",
      "Payoff action 0: 0\n",
      "I see the previous state: [0, 1]\n",
      "I recall the following frequencies of states:\n",
      "+--------+--------+--------+--------+\n",
      "| (0, 0) | (0, 1) | (1, 0) | (1, 1) |\n",
      "+--------+--------+--------+--------+\n",
      "|   0    |   1    |   0    |   1    |\n",
      "+--------+--------+--------+--------+\n",
      "I recall the following frequencies of bar with capacity:\n",
      "+--------+--------+--------+--------+\n",
      "| (0, 0) | (0, 1) | (1, 0) | (1, 1) |\n",
      "+--------+--------+--------+--------+\n",
      "|   0    |   1    |   0    |   1    |\n",
      "+--------+--------+--------+--------+\n",
      "---------- Round 2 ----------\n",
      "prob_capacity=0.4 --- prob_crowded=0.6\n",
      "Expected utilities:\n",
      "no go:0 ---- go:-0.19999999999999996\n",
      "Action preferences:\n",
      "no go:1 ---- go:0\n",
      "Action preferences in state [0, 1]: [1, 0]\n",
      "prob_capacity=0.4 --- prob_crowded=0.6\n",
      "Expected utilities:\n",
      "no go:0 ---- go:-0.19999999999999996\n",
      "Action preferences:\n",
      "no go:1 ---- go:0\n",
      "Action probabilities:\n",
      "no go:1 ---- go:0\n",
      "Chosen action: 0\n",
      "State arrived: [0, 1]\n",
      "Payoff action 0: 0\n",
      "I see the previous state: [0, 1]\n",
      "I recall the following frequencies of states:\n",
      "+--------+--------+--------+--------+\n",
      "| (0, 0) | (0, 1) | (1, 0) | (1, 1) |\n",
      "+--------+--------+--------+--------+\n",
      "|   0    |   2    |   0    |   1    |\n",
      "+--------+--------+--------+--------+\n",
      "I recall the following frequencies of bar with capacity:\n",
      "+--------+--------+--------+--------+\n",
      "| (0, 0) | (0, 1) | (1, 0) | (1, 1) |\n",
      "+--------+--------+--------+--------+\n",
      "|   0    |   2    |   0    |   1    |\n",
      "+--------+--------+--------+--------+\n"
     ]
    }
   ],
   "source": [
    "agente = MFP(\n",
    "    free_parameters=free_parameters,\n",
    "    fixed_parameters=fixed_parameters,\n",
    ")\n",
    "agente.debug = True\n",
    "test_bar_is_full(\n",
    "    agent=agente,\n",
    "    num_rounds=3\n",
    ")"
   ]
  },
  {
   "cell_type": "code",
   "execution_count": 9,
   "id": "d73e2670",
   "metadata": {},
   "outputs": [
    {
     "data": {
      "application/vnd.jupyter.widget-view+json": {
       "model_id": "54d1e57ec654415499efdd128c1ab0f2",
       "version_major": 2,
       "version_minor": 0
      },
      "text/plain": [
       "  0%|          | 0/2 [00:00<?, ?it/s]"
      ]
     },
     "metadata": {},
     "output_type": "display_data"
    },
    {
     "data": {
      "text/html": [
       "<div>\n",
       "<style scoped>\n",
       "    .dataframe tbody tr th:only-of-type {\n",
       "        vertical-align: middle;\n",
       "    }\n",
       "\n",
       "    .dataframe tbody tr th {\n",
       "        vertical-align: top;\n",
       "    }\n",
       "\n",
       "    .dataframe thead th {\n",
       "        text-align: right;\n",
       "    }\n",
       "</style>\n",
       "<table border=\"1\" class=\"dataframe\">\n",
       "  <thead>\n",
       "    <tr style=\"text-align: right;\">\n",
       "      <th></th>\n",
       "      <th>id_sim</th>\n",
       "      <th>round</th>\n",
       "      <th>attendance</th>\n",
       "      <th>id_player</th>\n",
       "      <th>decision</th>\n",
       "      <th>score</th>\n",
       "      <th>model</th>\n",
       "      <th>threshold</th>\n",
       "      <th>num_agents</th>\n",
       "    </tr>\n",
       "  </thead>\n",
       "  <tbody>\n",
       "    <tr>\n",
       "      <th>0</th>\n",
       "      <td>07e9964c-2ab5-11f0-b1ef-beb3bfa57af1</td>\n",
       "      <td>0</td>\n",
       "      <td>[1, 0]</td>\n",
       "      <td>0</td>\n",
       "      <td>1</td>\n",
       "      <td>1</td>\n",
       "      <td>MFP</td>\n",
       "      <td>0.5</td>\n",
       "      <td>2</td>\n",
       "    </tr>\n",
       "    <tr>\n",
       "      <th>1</th>\n",
       "      <td>07e9964c-2ab5-11f0-b1ef-beb3bfa57af1</td>\n",
       "      <td>0</td>\n",
       "      <td>[1, 0]</td>\n",
       "      <td>1</td>\n",
       "      <td>0</td>\n",
       "      <td>0</td>\n",
       "      <td>MFP</td>\n",
       "      <td>0.5</td>\n",
       "      <td>2</td>\n",
       "    </tr>\n",
       "  </tbody>\n",
       "</table>\n",
       "</div>"
      ],
      "text/plain": [
       "                                 id_sim  round attendance  id_player  \\\n",
       "0  07e9964c-2ab5-11f0-b1ef-beb3bfa57af1      0     [1, 0]          0   \n",
       "1  07e9964c-2ab5-11f0-b1ef-beb3bfa57af1      0     [1, 0]          1   \n",
       "\n",
       "   decision  score model  threshold  num_agents  \n",
       "0         1      1   MFP        0.5           2  \n",
       "1         0      0   MFP        0.5           2  "
      ]
     },
     "execution_count": 9,
     "metadata": {},
     "output_type": "execute_result"
    }
   ],
   "source": [
    "df = episode.simulate(num_episodes=2)\n",
    "df.head(2)"
   ]
  },
  {
   "cell_type": "code",
   "execution_count": 10,
   "id": "1534ec49",
   "metadata": {},
   "outputs": [],
   "source": [
    "p = PlotStandardMeasures(df)"
   ]
  },
  {
   "cell_type": "code",
   "execution_count": 11,
   "id": "966695dd",
   "metadata": {},
   "outputs": [
    {
     "name": "stdout",
     "output_type": "stream",
     "text": [
      "Plotting efficiency...\n"
     ]
    },
    {
     "name": "stderr",
     "output_type": "stream",
     "text": [
      "/opt/anaconda3/lib/python3.11/site-packages/seaborn/_oldcore.py:1119: FutureWarning: use_inf_as_na option is deprecated and will be removed in a future version. Convert inf values to NaN before operating instead.\n",
      "  with pd.option_context('mode.use_inf_as_na', True):\n"
     ]
    },
    {
     "name": "stdout",
     "output_type": "stream",
     "text": [
      "Plot saved to /Users/edgar/Repositorios/GitHub/MFP_El_Farol_Bar_Problem/figures/efficiency_2.png\n",
      "Plotting alternation_index...\n",
      "Plot saved to /Users/edgar/Repositorios/GitHub/MFP_El_Farol_Bar_Problem/figures/alternation_index_2.png\n"
     ]
    },
    {
     "name": "stderr",
     "output_type": "stream",
     "text": [
      "/opt/anaconda3/lib/python3.11/site-packages/seaborn/_oldcore.py:1119: FutureWarning: use_inf_as_na option is deprecated and will be removed in a future version. Convert inf values to NaN before operating instead.\n",
      "  with pd.option_context('mode.use_inf_as_na', True):\n"
     ]
    },
    {
     "data": {
      "text/plain": [
       "[PosixPath('/Users/edgar/Repositorios/GitHub/MFP_El_Farol_Bar_Problem/figures/efficiency_2.png'),\n",
       " PosixPath('/Users/edgar/Repositorios/GitHub/MFP_El_Farol_Bar_Problem/figures/alternation_index_2.png')]"
      ]
     },
     "execution_count": 11,
     "metadata": {},
     "output_type": "execute_result"
    }
   ],
   "source": [
    "fig_path = PATHS['fig_path']\n",
    "p.plot_measures(\n",
    "    measures=['efficiency', 'alternation_index'],\n",
    "    folder=fig_path,\n",
    ")"
   ]
  },
  {
   "cell_type": "code",
   "execution_count": null,
   "id": "1ba0c675",
   "metadata": {},
   "outputs": [],
   "source": []
  }
 ],
 "metadata": {
  "kernelspec": {
   "display_name": "base",
   "language": "python",
   "name": "python3"
  },
  "language_info": {
   "codemirror_mode": {
    "name": "ipython",
    "version": 3
   },
   "file_extension": ".py",
   "mimetype": "text/x-python",
   "name": "python",
   "nbconvert_exporter": "python",
   "pygments_lexer": "ipython3",
   "version": "3.11.7"
  }
 },
 "nbformat": 4,
 "nbformat_minor": 5
}
