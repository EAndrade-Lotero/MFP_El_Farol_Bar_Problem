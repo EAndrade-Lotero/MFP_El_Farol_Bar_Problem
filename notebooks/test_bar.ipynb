{
 "cells": [
  {
   "cell_type": "code",
   "execution_count": 1,
   "id": "aaa70b42",
   "metadata": {},
   "outputs": [],
   "source": [
    "import sys\n",
    "\n",
    "sys.path.append('../src')"
   ]
  },
  {
   "cell_type": "code",
   "execution_count": 2,
   "id": "4684978d",
   "metadata": {},
   "outputs": [],
   "source": [
    "from Classes.bar import Bar"
   ]
  },
  {
   "cell_type": "code",
   "execution_count": 4,
   "id": "57ae64fb",
   "metadata": {},
   "outputs": [],
   "source": [
    "bar = Bar(\n",
    "    num_agents=3,\n",
    "    threshold=0.5\n",
    ")\n",
    "history = [\n",
    "    [0, 1, 0],\n",
    "    [1, 0, 0],\n",
    "]"
   ]
  },
  {
   "cell_type": "code",
   "execution_count": 7,
   "id": "9f2cff01",
   "metadata": {},
   "outputs": [],
   "source": [
    "bar.history = history\n",
    "bar.render(file='bar.png')"
   ]
  },
  {
   "cell_type": "code",
   "execution_count": null,
   "id": "206d61f2",
   "metadata": {},
   "outputs": [],
   "source": []
  }
 ],
 "metadata": {
  "kernelspec": {
   "display_name": "base",
   "language": "python",
   "name": "python3"
  },
  "language_info": {
   "codemirror_mode": {
    "name": "ipython",
    "version": 3
   },
   "file_extension": ".py",
   "mimetype": "text/x-python",
   "name": "python",
   "nbconvert_exporter": "python",
   "pygments_lexer": "ipython3",
   "version": "3.11.7"
  }
 },
 "nbformat": 4,
 "nbformat_minor": 5
}
