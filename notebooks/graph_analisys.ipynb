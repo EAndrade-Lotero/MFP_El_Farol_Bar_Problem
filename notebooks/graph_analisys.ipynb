{
 "cells": [
  {
   "cell_type": "code",
   "execution_count": 5,
   "id": "8ef182f2",
   "metadata": {},
   "outputs": [],
   "source": [
    "import sys\n",
    "\n",
    "sys.path.append('../src')"
   ]
  },
  {
   "cell_type": "code",
   "execution_count": 3,
   "id": "05b5f2a2-f6a5-4749-99f1-2f5109cbeed5",
   "metadata": {},
   "outputs": [],
   "source": [
    "import json\n",
    "import networkx as nx\n",
    "from pyvis.network import Network\n",
    "import matplotlib.pyplot as plt"
   ]
  },
  {
   "cell_type": "code",
   "execution_count": 7,
   "id": "7d25b038",
   "metadata": {},
   "outputs": [],
   "source": [
    "from config import PATHS\n",
    "\n",
    "data_path = PATHS['sim_data']"
   ]
  },
  {
   "cell_type": "code",
   "execution_count": 8,
   "id": "92c3bd1f-a17b-4ebe-bd70-b5fb610fbe46",
   "metadata": {},
   "outputs": [],
   "source": [
    "# No. of agents\n",
    "N = 4\n",
    "# Threshold\n",
    "Th = 0.5\n",
    "# UCB parameter\n",
    "C = 0\n",
    "# Epsilon-greedy parameter\n",
    "e = 0\n",
    "# epsilon or UCB\n",
    "kind = \"epsilon\""
   ]
  },
  {
   "cell_type": "code",
   "execution_count": 9,
   "id": "7ed0d0d8-1976-4e3c-8973-90fda310e8c2",
   "metadata": {},
   "outputs": [],
   "source": [
    "with open(data_path / f'graph_data_N{N:d}C{C:.2f}e{e:.3f}Th{Th:.2f}.json', 'r') as f:\n",
    "  struct = json.load(f)\n",
    "#print(json.dumps(struct, indent = 4))"
   ]
  },
  {
   "cell_type": "code",
   "execution_count": 12,
   "id": "5e7e940c-31a3-4e85-8575-5853fb52d831",
   "metadata": {},
   "outputs": [
    {
     "data": {
      "text/plain": [
       "{'0': {'pattern': ['0', '0', '0', '1'],\n",
       "  'neigh': [0, 2],\n",
       "  'strat': {'00': '0', '01': '1', '10': '0'}},\n",
       " '1': {'pattern': ['1', '0', '1', '0'],\n",
       "  'neigh': [1],\n",
       "  'strat': {'1': '0', '0': '1'}},\n",
       " '2': {'pattern': ['0', '0', '1', '0'],\n",
       "  'neigh': [0, 1, 2],\n",
       "  'strat': {'010': '0', '000': '1', '011': '0', '100': '0'}},\n",
       " '3': {'pattern': ['0', '0', '0', '0'], 'neigh': [3], 'strat': {'0': '0'}}}"
      ]
     },
     "execution_count": 12,
     "metadata": {},
     "output_type": "execute_result"
    }
   ],
   "source": [
    "episodio_id = 6\n",
    "struct[\"simulations\"][episodio_id]"
   ]
  },
  {
   "cell_type": "code",
   "execution_count": 13,
   "id": "5f8341ae-605f-4483-9a8e-d23f4ea7180d",
   "metadata": {},
   "outputs": [],
   "source": [
    "edges = []\n",
    "for n1 in struct[\"simulations\"][episodio_id]:\n",
    "    for n2 in struct[\"simulations\"][episodio_id][n1][\"neigh\"]:  \n",
    "        if len(struct[\"simulations\"][episodio_id][n1][\"strat\"]) > 1:\n",
    "            edges.append((str(n1), str(n2)))"
   ]
  },
  {
   "cell_type": "code",
   "execution_count": 14,
   "id": "c7b8b0d3-7566-4a89-97e0-45843faf9367",
   "metadata": {},
   "outputs": [],
   "source": [
    "DG = nx.DiGraph()\n",
    "DG.add_nodes_from([str(i) for i in range(N)])\n",
    "DG.add_edges_from(edges)"
   ]
  },
  {
   "cell_type": "code",
   "execution_count": 15,
   "id": "d480b7d8-3bac-4d5d-bfe5-167c779863aa",
   "metadata": {},
   "outputs": [
    {
     "name": "stdout",
     "output_type": "stream",
     "text": [
      "Warning: When  cdn_resources is 'local' jupyter notebook has issues displaying graphics on chrome/safari. Use cdn_resources='in_line' or cdn_resources='remote' if you have issues viewing graphics in a notebook.\n",
      "dnet.html\n"
     ]
    },
    {
     "data": {
      "text/html": [
       "\n",
       "        <iframe\n",
       "            width=\"400px\"\n",
       "            height=\"400px\"\n",
       "            src=\"dnet.html\"\n",
       "            frameborder=\"0\"\n",
       "            allowfullscreen\n",
       "            \n",
       "        ></iframe>\n",
       "        "
      ],
      "text/plain": [
       "<IPython.lib.display.IFrame at 0x165140703d0>"
      ]
     },
     "execution_count": 15,
     "metadata": {},
     "output_type": "execute_result"
    }
   ],
   "source": [
    "dnet = Network(\"400px\",\"400px\",notebook=True,directed=True)\n",
    "dnet.from_nx(DG)\n",
    "dnet.toggle_physics(True)\n",
    "dnet.show('dnet.html')"
   ]
  },
  {
   "cell_type": "code",
   "execution_count": 54,
   "id": "aa4dcbd2-56c6-4677-a1c9-331e264ec4d9",
   "metadata": {},
   "outputs": [],
   "source": [
    "degree = [len(list(DG.neighbors(str(i)))) for i in range(N)]"
   ]
  },
  {
   "cell_type": "code",
   "execution_count": 55,
   "id": "120d2659-b6bd-4f14-8069-a54125c25b7d",
   "metadata": {},
   "outputs": [],
   "source": [
    "for sim in range(len(struct[\"simulations\"])):\n",
    "    # Create graph\n",
    "    edges = []\n",
    "    for n1 in struct[\"simulations\"][sim]:\n",
    "        for n2 in struct[\"simulations\"][sim][n1][\"neigh\"]:  \n",
    "            if len(struct[\"simulations\"][sim][n1][\"strat\"]) > 1:\n",
    "                edges.append((str(n1), str(n2)))\n",
    "    DG = nx.DiGraph()\n",
    "    DG.add_nodes_from([str(i) for i in range(N)])\n",
    "    DG.add_edges_from(edges)\n",
    "    \n",
    "    # Degree of nodes\n",
    "    degree = [len(list(DG.neighbors(str(i)))) for i in range(N)]"
   ]
  }
 ],
 "metadata": {
  "kernelspec": {
   "display_name": "base",
   "language": "python",
   "name": "python3"
  },
  "language_info": {
   "codemirror_mode": {
    "name": "ipython",
    "version": 3
   },
   "file_extension": ".py",
   "mimetype": "text/x-python",
   "name": "python",
   "nbconvert_exporter": "python",
   "pygments_lexer": "ipython3",
   "version": "3.11.5"
  }
 },
 "nbformat": 4,
 "nbformat_minor": 5
}
