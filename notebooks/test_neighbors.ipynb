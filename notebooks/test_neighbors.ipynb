{
 "cells": [
  {
   "cell_type": "code",
   "execution_count": 1,
   "id": "09b32233",
   "metadata": {},
   "outputs": [],
   "source": [
    "import sys\n",
    "\n",
    "sys.path.append('../src')"
   ]
  },
  {
   "cell_type": "code",
   "execution_count": 2,
   "id": "8a8636d9",
   "metadata": {},
   "outputs": [],
   "source": [
    "import pandas as pd\n",
    "import seaborn as sns"
   ]
  },
  {
   "cell_type": "code",
   "execution_count": null,
   "id": "50d68102",
   "metadata": {},
   "outputs": [],
   "source": [
    "from config import PATHS\n",
    "from Classes.bar import Bar\n",
    "from Classes.agentes import MFP, Agente\n",
    "from utils.interaction import Episode\n",
    "from utils.graph_utils import GraphUtils\n",
    "from utils.plot_utils import PlotRoundMeasures\n",
    "\n",
    "data_path = PATHS['sim_data']"
   ]
  },
  {
   "cell_type": "code",
   "execution_count": 4,
   "id": "2fcd8dd0",
   "metadata": {},
   "outputs": [],
   "source": [
    "# Definir parámetros fijos\n",
    "fixed_parameters = {\n",
    "    'num_agents': 4,\n",
    "    'threshold': 0.8\n",
    "}\n",
    "\n",
    "# Definir los parámetros libres del modelo\n",
    "free_parameters = {\n",
    "    'belief_strength': 1\n",
    "}\n",
    "\n",
    "# Crear el entorno\n",
    "bar = Bar(**fixed_parameters)"
   ]
  },
  {
   "cell_type": "code",
   "execution_count": 5,
   "id": "b47c8e05",
   "metadata": {},
   "outputs": [],
   "source": [
    "red = {\n",
    "    '0': {\n",
    "            'pattern': ['0', '0', '0', '1'],\n",
    "            'neigh': [0, 2],\n",
    "            'strat': {'00': '0', '01': '1', '10': '0'}\n",
    "        },\n",
    "    '1': {\n",
    "            'pattern': ['1', '0', '1', '0'],\n",
    "            'neigh': [1],\n",
    "            'strat': {'1': '0', '0': '1'}\n",
    "        },\n",
    "    '2': {\n",
    "            'pattern': ['0', '0', '1', '0'],\n",
    "            'neigh': [0, 1, 2],\n",
    "            'strat': {'010': '0', '000': '1', '011': '0', '100': '0'}\n",
    "        },\n",
    " '3': {\n",
    "            'pattern': ['0', '0', '0', '0'], \n",
    "            'neigh': [3], \n",
    "            'strat': {'0': '0'}\n",
    "        }\n",
    "}\n",
    "fixed_parameters['red'] = red"
   ]
  },
  {
   "cell_type": "markdown",
   "id": "0167c7b8",
   "metadata": {},
   "source": [
    "# Crear las vecindades\n",
    "G = GraphUtils.minimal_graph()\n",
    "neighbours = GraphUtils.to_neighborhoods(G)\n",
    "print(neighbours)\n",
    "fixed_parameters['neighbours'] = neighbours"
   ]
  },
  {
   "cell_type": "code",
   "execution_count": null,
   "id": "2ca3c363",
   "metadata": {},
   "outputs": [
    {
     "name": "stdout",
     "output_type": "stream",
     "text": [
      "OOOOOK\n",
      "OOOOOK\n",
      "OOOOOK\n",
      "OOOOOK\n",
      "OOOOOK\n",
      "OOOOOK\n",
      "OOOOOK\n",
      "OOOOOK\n"
     ]
    }
   ],
   "source": [
    "# Crear los agentes\n",
    "agents = [Agente(free_parameters, fixed_parameters, n) for n in range(fixed_parameters['num_agents'])]\n",
    "# Crear el episodio\n",
    "episode = Episode(\n",
    "    model='MFP',\n",
    "    agents=agents,\n",
    "    environment=bar,\n",
    "    num_rounds=5\n",
    ")"
   ]
  },
  {
   "cell_type": "code",
   "execution_count": 7,
   "id": "d9bc070e",
   "metadata": {},
   "outputs": [
    {
     "ename": "AssertionError",
     "evalue": "",
     "output_type": "error",
     "traceback": [
      "\u001b[1;31m---------------------------------------------------------------------------\u001b[0m",
      "\u001b[1;31mAssertionError\u001b[0m                            Traceback (most recent call last)",
      "Cell \u001b[1;32mIn[7], line 10\u001b[0m\n\u001b[0;32m      2\u001b[0m episode \u001b[38;5;241m=\u001b[39m Episode(\n\u001b[0;32m      3\u001b[0m     model\u001b[38;5;241m=\u001b[39m\u001b[38;5;124m'\u001b[39m\u001b[38;5;124mMFP\u001b[39m\u001b[38;5;124m'\u001b[39m,\n\u001b[0;32m      4\u001b[0m     agents\u001b[38;5;241m=\u001b[39magents,\n\u001b[0;32m      5\u001b[0m     environment\u001b[38;5;241m=\u001b[39mbar,\n\u001b[0;32m      6\u001b[0m     num_rounds\u001b[38;5;241m=\u001b[39m\u001b[38;5;241m10\u001b[39m\n\u001b[0;32m      7\u001b[0m )\n\u001b[0;32m      9\u001b[0m episode\u001b[38;5;241m.\u001b[39mreset()\n\u001b[1;32m---> 10\u001b[0m episode\u001b[38;5;241m.\u001b[39mrun()\n\u001b[0;32m     11\u001b[0m episode\u001b[38;5;241m.\u001b[39mrenderize(data_path \u001b[38;5;241m/\u001b[39m \u001b[38;5;124m'\u001b[39m\u001b[38;5;124mbar.png\u001b[39m\u001b[38;5;124m'\u001b[39m)\n",
      "File \u001b[1;32mc:\\Users\\andra\\Documents\\MFP_El_Farol_Bar_Problem\\notebooks\\../src\\utils\\interaction.py:78\u001b[0m, in \u001b[0;36mEpisode.run\u001b[1;34m(self, verbose)\u001b[0m\n\u001b[0;32m     76\u001b[0m \u001b[38;5;28;01mif\u001b[39;00m verbose:\n\u001b[0;32m     77\u001b[0m     \u001b[38;5;28mprint\u001b[39m(\u001b[38;5;124m'\u001b[39m\u001b[38;5;130;01m\\n\u001b[39;00m\u001b[38;5;124m'\u001b[39m \u001b[38;5;241m+\u001b[39m \u001b[38;5;124m'\u001b[39m\u001b[38;5;124m-\u001b[39m\u001b[38;5;124m'\u001b[39m\u001b[38;5;241m*\u001b[39m\u001b[38;5;241m10\u001b[39m \u001b[38;5;241m+\u001b[39m \u001b[38;5;124mf\u001b[39m\u001b[38;5;124m'\u001b[39m\u001b[38;5;124mRound \u001b[39m\u001b[38;5;132;01m{\u001b[39;00m\u001b[38;5;28mround\u001b[39m\u001b[38;5;132;01m}\u001b[39;00m\u001b[38;5;124m'\u001b[39m \u001b[38;5;241m+\u001b[39m \u001b[38;5;124m'\u001b[39m\u001b[38;5;124m-\u001b[39m\u001b[38;5;124m'\u001b[39m\u001b[38;5;241m*\u001b[39m\u001b[38;5;241m10\u001b[39m \u001b[38;5;241m+\u001b[39m \u001b[38;5;124m'\u001b[39m\u001b[38;5;130;01m\\n\u001b[39;00m\u001b[38;5;124m'\u001b[39m)\n\u001b[1;32m---> 78\u001b[0m \u001b[38;5;28mself\u001b[39m\u001b[38;5;241m.\u001b[39mplay_round(verbose\u001b[38;5;241m=\u001b[39mverbose)\n",
      "File \u001b[1;32mc:\\Users\\andra\\Documents\\MFP_El_Farol_Bar_Problem\\notebooks\\../src\\utils\\interaction.py:50\u001b[0m, in \u001b[0;36mEpisode.play_round\u001b[1;34m(self, verbose)\u001b[0m\n\u001b[0;32m     47\u001b[0m \u001b[38;5;66;03m# Ask each agent to make a decision\u001b[39;00m\n\u001b[0;32m     48\u001b[0m \u001b[38;5;28;01mfor\u001b[39;00m i, agent \u001b[38;5;129;01min\u001b[39;00m \u001b[38;5;28menumerate\u001b[39m(\u001b[38;5;28mself\u001b[39m\u001b[38;5;241m.\u001b[39magents):\n\u001b[0;32m     49\u001b[0m     \u001b[38;5;66;03m# Make decision\u001b[39;00m\n\u001b[1;32m---> 50\u001b[0m     decision \u001b[38;5;241m=\u001b[39m agent\u001b[38;5;241m.\u001b[39mmake_decision()\n\u001b[0;32m     51\u001b[0m     \u001b[38;5;66;03m# Add to list of attendances\u001b[39;00m\n\u001b[0;32m     52\u001b[0m     attendances\u001b[38;5;241m.\u001b[39mappend(decision)\n",
      "File \u001b[1;32mc:\\Users\\andra\\Documents\\MFP_El_Farol_Bar_Problem\\notebooks\\../src\\Classes\\agentes.py:52\u001b[0m, in \u001b[0;36mAgente.make_decision\u001b[1;34m(self)\u001b[0m\n\u001b[0;32m     50\u001b[0m     decision \u001b[38;5;241m=\u001b[39m \u001b[38;5;28mself\u001b[39m\u001b[38;5;241m.\u001b[39muse_probability()\n\u001b[0;32m     51\u001b[0m \u001b[38;5;28;01melse\u001b[39;00m:\n\u001b[1;32m---> 52\u001b[0m     \u001b[38;5;28;01massert\u001b[39;00m(\u001b[38;5;28mself\u001b[39m\u001b[38;5;241m.\u001b[39mneighbours \u001b[38;5;129;01mis\u001b[39;00m \u001b[38;5;129;01mnot\u001b[39;00m \u001b[38;5;28;01mNone\u001b[39;00m)\n\u001b[0;32m     53\u001b[0m     info_neigh \u001b[38;5;241m=\u001b[39m \u001b[38;5;28mself\u001b[39m\u001b[38;5;241m.\u001b[39mget_prev_state()\n\u001b[0;32m     54\u001b[0m     decision \u001b[38;5;241m=\u001b[39m \u001b[38;5;28mself\u001b[39m\u001b[38;5;241m.\u001b[39mstrategy[info_neigh]\n",
      "\u001b[1;31mAssertionError\u001b[0m: "
     ]
    }
   ],
   "source": [
    "# Crear el episodio\n",
    "episode = Episode(\n",
    "    model='MFP',\n",
    "    agents=agents,\n",
    "    environment=bar,\n",
    "    num_rounds=10\n",
    ")\n",
    "\n",
    "episode.reset()\n",
    "episode.run()\n",
    "episode.renderize(data_path / 'bar.png')"
   ]
  },
  {
   "cell_type": "code",
   "execution_count": null,
   "id": "47ca6d7c",
   "metadata": {},
   "outputs": [],
   "source": [
    "df = episode.to_pandas()\n",
    "df.head(2)"
   ]
  },
  {
   "cell_type": "code",
   "execution_count": null,
   "id": "2e1f0bcf",
   "metadata": {},
   "outputs": [],
   "source": [
    "sns.lineplot(data=df, x='round', y='decision')"
   ]
  },
  {
   "cell_type": "code",
   "execution_count": null,
   "id": "59df974f",
   "metadata": {},
   "outputs": [],
   "source": [
    "p = PlotRoundMeasures(df)\n",
    "\n",
    "p.plot_measures(\n",
    "    measures=['attendance'],\n",
    "    folder=data_path\n",
    ")"
   ]
  }
 ],
 "metadata": {
  "kernelspec": {
   "display_name": "base",
   "language": "python",
   "name": "python3"
  },
  "language_info": {
   "codemirror_mode": {
    "name": "ipython",
    "version": 3
   },
   "file_extension": ".py",
   "mimetype": "text/x-python",
   "name": "python",
   "nbconvert_exporter": "python",
   "pygments_lexer": "ipython3",
   "version": "3.11.5"
  }
 },
 "nbformat": 4,
 "nbformat_minor": 5
}
