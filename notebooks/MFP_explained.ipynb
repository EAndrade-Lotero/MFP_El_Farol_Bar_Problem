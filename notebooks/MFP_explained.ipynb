{
 "cells": [
  {
   "cell_type": "markdown",
   "id": "4f45785e-5f48-4852-8f0c-5c38a7bbff8c",
   "metadata": {},
   "source": [
    "### Markov fictious play\n",
    "\n",
    "Rules:\n",
    "1. Each agent looks at the state $\\mathbf{s}_{t-1}=\\langle a^1_{t-1},a^2_{t-1},\\dots,a^N_{t-1}\\rangle$, where $a^i_{t-1}\\in\\{0,1\\}$ is the previous action of agent $i$.\n",
    "2. Each agent determines the **expected utility** of each one of its possible actions in the following way:\n",
    "   - The expected utility of taking action \"0\" (not go) is 0:\n",
    "     $$EU(a^{i}=0)=0.$$\n",
    "   - The expected utility of taking action \"1\" (go) is computed as:\n",
    "     $$\\begin{align}\n",
    "     EU(a^{i}=1)&=P(A^{-i}_{t}<B|\\mathbf{s}_{t-1})-P(A^{-i}_{t}\\geq B|\\mathbf{s}_{t-1})\\nonumber\\\\\n",
    "     &=P(A^{-i}_{t}<B|\\mathbf{s}_{t-1})-(1-P(A^{-i}_{t}<B|\\mathbf{s}_{t-1}))\\nonumber\\\\\n",
    "     &=2P(A^{-i}_{t}<B|\\mathbf{s}_{t-1})-1\n",
    "     \\end{align}$$\n",
    "     where\n",
    "     $$A^{-i}_{t}=\\sum_{j\\neq i}a^j_{t},$$\n",
    "     $B$ is the bar capacity in number of agents that can go.\n",
    "   - The probability\n",
    "     $$P(A^{-i}_{t}<B|\\mathbf{s}_{t-1})=\\frac{\\sum_{\\tau=1}^{t-1}\\mathbb{1}(A^{-i}_{\\tau}<B\\; \\&\\; \\mathbf{s}_{\\tau-1}=\\mathbf{s}_{t-1})+\\lambda}{\\sum_{\\tau=1}^{t-1}\\mathbb{1}(\\mathbf{s}_{\\tau-1}=\\mathbf{s}_{t-1})+2\\lambda}$$\n",
    "     where\n",
    "     $$\\mathbb{1}(\\phi_{\\tau})=\\begin{cases} 1, & \\text{if $\\phi_{\\tau}$ is true.}\\\\\n",
    "     0, & \\text{otherwise}.\\\\\n",
    "     \\end{cases}$$\n",
    "     is the indicator function.\n",
    "     \n",
    "     Note that\n",
    "     \n",
    "     $$\\frac{\\sum_{\\tau=1}^{t-1}\\mathbb{1}(A^{-i}_{\\tau}<B\\; \\&\\; \\mathbf{s}_{\\tau-1}=\\mathbf{s}_{t-1})+\\lambda}{\\sum_{\\tau=1}^{t-1}\\mathbb{1}(\\mathbf{s}_{\\tau-1}=\\mathbf{s}_{t-1})+2\\lambda}+\\frac{\\sum_{\\tau=1}^{t-1}\\mathbb{1}(A^{-i}_{\\tau}\\geq B\\; \\&\\; \\mathbf{s}_{\\tau-1}=\\mathbf{s}_{t-1})+\\lambda}{\\sum_{\\tau=1}^{t-1}\\mathbb{1}(\\mathbf{s}_{\\tau-1}=\\mathbf{s}_{t-1})+2\\lambda}=1.$$\n",
    "         \n",
    "3. Then, at round $t$, agent $i$ takes action \"1\" if $EU(a^{i}_t=1)>0$, and takes action \"0\" otherwise."
   ]
  },
  {
   "cell_type": "markdown",
   "id": "6734a1e6-965a-4534-9059-65a2ed89a737",
   "metadata": {},
   "source": []
  }
 ],
 "metadata": {
  "kernelspec": {
   "display_name": "Python 3 (ipykernel)",
   "language": "python",
   "name": "python3"
  },
  "language_info": {
   "codemirror_mode": {
    "name": "ipython",
    "version": 3
   },
   "file_extension": ".py",
   "mimetype": "text/x-python",
   "name": "python",
   "nbconvert_exporter": "python",
   "pygments_lexer": "ipython3",
   "version": "3.12.3"
  }
 },
 "nbformat": 4,
 "nbformat_minor": 5
}
