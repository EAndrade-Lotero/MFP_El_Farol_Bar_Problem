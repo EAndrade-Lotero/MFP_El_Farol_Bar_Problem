{
 "cells": [
  {
   "cell_type": "markdown",
   "id": "753cbfaa",
   "metadata": {},
   "source": [
    "1500 rondas & 100 episodios sacar últimas 500 rondas\n",
    "\n",
    "* Naive: 0 parametros libres\n",
    "\n",
    "* UCB: c = [0.001, 0.5, 1, 2, 4]\n",
    "\n",
    "* $\\epsilon$-greedy: $\\epsilon$ = [0.001, 0.01, 0.1, 0.2, 0.4]\n",
    "\n",
    "* Softmax: temperatura inversa = [4, 8, 16, 32, 64]"
   ]
  },
  {
   "cell_type": "code",
   "execution_count": 1,
   "id": "35815afe",
   "metadata": {},
   "outputs": [],
   "source": [
    "import sys\n",
    "\n",
    "sys.path.append('../src')\n",
    "\n",
    "from config import PATHS\n",
    "from Classes.bar import Bar\n",
    "from Classes.agentes import MFP\n",
    "from utils.interaction import Episode\n",
    "from tester.unit_tests import test_bar_is_full\n",
    "from utils.plot_utils import PlotStandardMeasures\n",
    "from utils.interaction import Experiment\n",
    "\n",
    "data_path = PATHS['sim_data']\n",
    "fig_path = PATHS['fig_path']"
   ]
  },
  {
   "cell_type": "markdown",
   "id": "2e788662",
   "metadata": {},
   "source": [
    "## Test Naive con barrido sobre belief strength"
   ]
  },
  {
   "cell_type": "code",
   "execution_count": 2,
   "id": "7c3bbd11",
   "metadata": {},
   "outputs": [],
   "source": [
    "# Create parameters\n",
    "free_parameters = {\n",
    "    'belief_strength': 1\n",
    "}\n",
    "fixe_parameters = {\n",
    "    'num_agents': 2,\n",
    "    'threshold': 0.5,\n",
    "}\n",
    "simulation_parameters = {\n",
    "    'num_rounds': 1500,\n",
    "    'num_episodes': 100\n",
    "}\n",
    "\n",
    "exp = Experiment(\n",
    "    agent_class=MFP,\n",
    "    free_parameters=free_parameters,\n",
    "    fixed_parameters=fixe_parameters,\n",
    "    simulation_parameters=simulation_parameters\n",
    ")"
   ]
  },
  {
   "cell_type": "code",
   "execution_count": 3,
   "id": "1a2c4bbb",
   "metadata": {},
   "outputs": [
    {
     "data": {
      "application/vnd.jupyter.widget-view+json": {
       "model_id": "cbbacd507deb4a5ea3796d97b5f78580",
       "version_major": 2,
       "version_minor": 0
      },
      "text/plain": [
       "Running models for each belief_strength:   0%|          | 0/4 [00:00<?, ?it/s]"
      ]
     },
     "metadata": {},
     "output_type": "display_data"
    },
    {
     "data": {
      "application/vnd.jupyter.widget-view+json": {
       "model_id": "a004575bf2a14eb081c9deff82a9b4d9",
       "version_major": 2,
       "version_minor": 0
      },
      "text/plain": [
       "  0%|          | 0/100 [00:00<?, ?it/s]"
      ]
     },
     "metadata": {},
     "output_type": "display_data"
    },
    {
     "data": {
      "application/vnd.jupyter.widget-view+json": {
       "model_id": "2ba31439ab364fd29cc8092171b139ec",
       "version_major": 2,
       "version_minor": 0
      },
      "text/plain": [
       "  0%|          | 0/100 [00:00<?, ?it/s]"
      ]
     },
     "metadata": {},
     "output_type": "display_data"
    },
    {
     "data": {
      "application/vnd.jupyter.widget-view+json": {
       "model_id": "28f761900012481fa929c934c10627f9",
       "version_major": 2,
       "version_minor": 0
      },
      "text/plain": [
       "  0%|          | 0/100 [00:00<?, ?it/s]"
      ]
     },
     "metadata": {},
     "output_type": "display_data"
    },
    {
     "data": {
      "application/vnd.jupyter.widget-view+json": {
       "model_id": "c260d43e098b42f4b680d0727564cc2d",
       "version_major": 2,
       "version_minor": 0
      },
      "text/plain": [
       "  0%|          | 0/100 [00:00<?, ?it/s]"
      ]
     },
     "metadata": {},
     "output_type": "display_data"
    },
    {
     "name": "stdout",
     "output_type": "stream",
     "text": [
      "Experiment with belief_strength finished\n"
     ]
    }
   ],
   "source": [
    "# Run the experiment\n",
    "exp.run_sweep1(\n",
    "    parameter='belief_strength',\n",
    "    values=[0.1, 0.5, 1, 2],\n",
    ")"
   ]
  },
  {
   "cell_type": "code",
   "execution_count": 4,
   "id": "f4376673",
   "metadata": {},
   "outputs": [
    {
     "data": {
      "text/plain": [
       "array(['belief_strength=0.1', 'belief_strength=0.5', 'belief_strength=1',\n",
       "       'belief_strength=2'], dtype=object)"
      ]
     },
     "execution_count": 4,
     "metadata": {},
     "output_type": "execute_result"
    }
   ],
   "source": [
    "exp.data.model.unique()"
   ]
  },
  {
   "cell_type": "code",
   "execution_count": 5,
   "id": "ec511f18",
   "metadata": {},
   "outputs": [],
   "source": [
    "p = PlotStandardMeasures(exp.data)"
   ]
  },
  {
   "cell_type": "code",
   "execution_count": 6,
   "id": "badaed59",
   "metadata": {},
   "outputs": [
    {
     "name": "stdout",
     "output_type": "stream",
     "text": [
      "Plotting efficiency...\n"
     ]
    },
    {
     "name": "stderr",
     "output_type": "stream",
     "text": [
      "/opt/anaconda3/lib/python3.11/site-packages/seaborn/_oldcore.py:1119: FutureWarning: use_inf_as_na option is deprecated and will be removed in a future version. Convert inf values to NaN before operating instead.\n",
      "  with pd.option_context('mode.use_inf_as_na', True):\n",
      "/opt/anaconda3/lib/python3.11/site-packages/seaborn/_oldcore.py:1119: FutureWarning: use_inf_as_na option is deprecated and will be removed in a future version. Convert inf values to NaN before operating instead.\n",
      "  with pd.option_context('mode.use_inf_as_na', True):\n"
     ]
    },
    {
     "name": "stdout",
     "output_type": "stream",
     "text": [
      "Plot saved to /Users/edgar/Repositorios/GitHub/MFP_El_Farol_Bar_Problem/figures/naive/efficiency.png\n",
      "Plotting alternation_index...\n"
     ]
    },
    {
     "name": "stderr",
     "output_type": "stream",
     "text": [
      "/opt/anaconda3/lib/python3.11/site-packages/seaborn/_oldcore.py:1119: FutureWarning: use_inf_as_na option is deprecated and will be removed in a future version. Convert inf values to NaN before operating instead.\n",
      "  with pd.option_context('mode.use_inf_as_na', True):\n",
      "/opt/anaconda3/lib/python3.11/site-packages/seaborn/_oldcore.py:1119: FutureWarning: use_inf_as_na option is deprecated and will be removed in a future version. Convert inf values to NaN before operating instead.\n",
      "  with pd.option_context('mode.use_inf_as_na', True):\n"
     ]
    },
    {
     "name": "stdout",
     "output_type": "stream",
     "text": [
      "Plot saved to /Users/edgar/Repositorios/GitHub/MFP_El_Farol_Bar_Problem/figures/naive/alternation_index.png\n"
     ]
    },
    {
     "data": {
      "text/plain": [
       "[PosixPath('/Users/edgar/Repositorios/GitHub/MFP_El_Farol_Bar_Problem/figures/naive/efficiency.png'),\n",
       " PosixPath('/Users/edgar/Repositorios/GitHub/MFP_El_Farol_Bar_Problem/figures/naive/alternation_index.png')]"
      ]
     },
     "execution_count": 6,
     "metadata": {},
     "output_type": "execute_result"
    }
   ],
   "source": [
    "kwargs = {\n",
    "    'T': 500, # <= PARA CANTIDAD DE EPISODIOS PREVIOS A MEDIR\n",
    "    'x_label':'Belief Strength',\n",
    "    'only_value':True,\n",
    "    'title_size':16,\n",
    "    'x_label_size':14,\n",
    "    'y_label_size':14,\n",
    "}\n",
    "\n",
    "p.plot_measures(\n",
    "    measures=['efficiency', 'alternation_index'],\n",
    "    folder=fig_path / 'naive',\n",
    "    kwargs=kwargs\n",
    ")"
   ]
  },
  {
   "cell_type": "markdown",
   "id": "30ef60a3",
   "metadata": {},
   "source": [
    "## Naive"
   ]
  },
  {
   "cell_type": "code",
   "execution_count": null,
   "id": "c1c4a199",
   "metadata": {},
   "outputs": [],
   "source": []
  }
 ],
 "metadata": {
  "kernelspec": {
   "display_name": "base",
   "language": "python",
   "name": "python3"
  },
  "language_info": {
   "codemirror_mode": {
    "name": "ipython",
    "version": 3
   },
   "file_extension": ".py",
   "mimetype": "text/x-python",
   "name": "python",
   "nbconvert_exporter": "python",
   "pygments_lexer": "ipython3",
   "version": "3.11.7"
  }
 },
 "nbformat": 4,
 "nbformat_minor": 5
}
